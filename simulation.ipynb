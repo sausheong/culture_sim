{
 "cells": [
  {
   "cell_type": "code",
   "execution_count": 1,
   "metadata": {},
   "outputs": [],
   "source": [
    "from mpl_toolkits.mplot3d import Axes3D\n",
    "import matplotlib.pyplot as plt\n",
    "import numpy as np\n",
    "import pandas as pd\n",
    "from scipy import stats\n",
    "%matplotlib inline"
   ]
  },
  {
   "cell_type": "code",
   "execution_count": 2,
   "metadata": {},
   "outputs": [],
   "source": [
    "def process(filename):\n",
    "    cells = pd.read_csv(filename, header=None)\n",
    "    nums = cells[0].tolist()\n",
    "\n",
    "    hexs = []\n",
    "    for item in nums:\n",
    "        hexs.append(hex(item))\n",
    "\n",
    "    df = []\n",
    "    for h in hexs:\n",
    "        x = h[2:].zfill(6)\n",
    "        df.append([int(x[0:2], 16), int(x[2:4], 16), int(x[4:6], 16)])\n",
    "\n",
    "    return pd.DataFrame(df, columns = ['x', 'y', 'z'])\n",
    "    "
   ]
  },
  {
   "cell_type": "code",
   "execution_count": null,
   "metadata": {},
   "outputs": [],
   "source": [
    "data1 = process('cell-n50-t100-w12.csv')\n",
    "data2 = process('cell-n50-t100-w24.csv')\n",
    "data3 = process('cell-n50-t100-w36.csv')\n",
    "\n",
    "fig = plt.figure()\n",
    "ax = fig.add_subplot(111, projection='3d')\n",
    "\n",
    "ax.scatter(data1['x'], data1['y'], data1['z'], c = 'r', marker='o')\n",
    "ax.scatter(data2['x'], data2['y'], data2['z'], c = 'b', marker='o')\n",
    "ax.scatter(data3['x'], data3['y'], data3['z'], c = 'g', marker='o')\n",
    "\n",
    "ax.set_xlabel('X-axis')\n",
    "ax.set_ylabel('Y-axis')\n",
    "ax.set_zlabel('Z-axis')\n",
    "\n",
    "plt.show()"
   ]
  }
 ],
 "metadata": {
  "kernelspec": {
   "display_name": "Python 3",
   "language": "python",
   "name": "python3"
  },
  "language_info": {
   "codemirror_mode": {
    "name": "ipython",
    "version": 3
   },
   "file_extension": ".py",
   "mimetype": "text/x-python",
   "name": "python",
   "nbconvert_exporter": "python",
   "pygments_lexer": "ipython3",
   "version": "3.6.8"
  }
 },
 "nbformat": 4,
 "nbformat_minor": 2
}
